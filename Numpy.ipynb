{
  "nbformat": 4,
  "nbformat_minor": 0,
  "metadata": {
    "colab": {
      "provenance": [],
      "authorship_tag": "ABX9TyNnCIw8I1SF3+UdaL6JEAmI",
      "include_colab_link": true
    },
    "kernelspec": {
      "name": "python3",
      "display_name": "Python 3"
    },
    "language_info": {
      "name": "python"
    }
  },
  "cells": [
    {
      "cell_type": "markdown",
      "metadata": {
        "id": "view-in-github",
        "colab_type": "text"
      },
      "source": [
        "<a href=\"https://colab.research.google.com/github/ArnavRastogi16/Data-Structure/blob/main/Numpy.ipynb\" target=\"_parent\"><img src=\"https://colab.research.google.com/assets/colab-badge.svg\" alt=\"Open In Colab\"/></a>"
      ]
    },
    {
      "cell_type": "code",
      "source": [
        "## THEORITICAL QUESTIONS"
      ],
      "metadata": {
        "id": "sJRe4njlz9AD"
      },
      "execution_count": 21,
      "outputs": []
    },
    {
      "cell_type": "code",
      "execution_count": 1,
      "metadata": {
        "id": "oiuI5-KrxsoK"
      },
      "outputs": [],
      "source": [
        "## QUES 1)  Explain the purpose and advantages of NumPy in scientific computing and data analysis. How does it\n",
        "# enhance Python's capabilities for numerical operations?"
      ]
    },
    {
      "cell_type": "markdown",
      "source": [
        "NumPy, which stands for Numerical Python, is a powerful library in Python that is widely used for scientific computing and data analysis. Here are some key purposes and advantages of using NumPy:\n",
        "\n",
        "### Purpose of NumPy:\n",
        "1. Efficient Array Operations: NumPy provides a high-performance multidimensional array object called ndarray, which allows for efficient storage and manipulation of large datasets.\n",
        "2. Numerical Computing: It is designed for numerical computing, making it easier to perform mathematical operations on large arrays and matrices.\n",
        "3. Integration with Other Libraries: NumPy serves as the foundational library for many other scientific libraries in Python, such as SciPy, Pandas, and Matplotlib, enhancing their capabilities.\n",
        "\n",
        "### Advantages of NumPy:\n",
        "1. Performance: NumPy's array operations are implemented in C, making them significantly faster compared to traditional Python lists. This speed is crucial for handling large datasets and performing complex calculations.\n",
        "2. Convenient Syntax: NumPy provides a user-friendly syntax for mathematical operations, allowing for concise and readable code. For example, you can perform element-wise operations directly on arrays without the need for loops.\n",
        "3. Broadcasting: This feature allows NumPy to perform operations on arrays of different shapes, making it easier to work with datasets of varying dimensions.\n",
        "4. Comprehensive Mathematical Functions: NumPy includes a wide range of mathematical functions, such as trigonometric, statistical, and algebraic functions, which can be applied to arrays.\n",
        "5. Memory Efficiency: NumPy arrays consume less memory than Python lists, which is essential when working with large datasets.\n",
        "6. Support for Linear Algebra: NumPy includes functions for linear algebra operations, such as matrix multiplication, eigenvalue decomposition, and more, which are fundamental in scientific computing.\n",
        "\n",
        "### Enhancing Python's Capabilities:\n",
        "NumPy enhances Python's capabilities for numerical operations by providing a robust framework for handling large datasets efficiently. It allows users to perform complex mathematical computations with ease and speed, which would be cumbersome and slow using standard Python data structures. Additionally, its interoperability with other libraries means that it forms the backbone of the scientific Python ecosystem, enabling advanced data analysis and visualization.\n",
        "\n",
        "In summary, NumPy is essential for anyone involved in scientific computing or data analysis with Python due to its efficiency, performance, and extensive functionality. It transforms Python into a powerful tool for numerical operations, making it a go-to choice for researchers and data scientists alike."
      ],
      "metadata": {
        "id": "skbfLWz20D_j"
      }
    },
    {
      "cell_type": "code",
      "source": [
        "## QUES 2) Compare and contrast np.mean() and np.average() functions in NumPy. When would you use one over the\n",
        "# other?"
      ],
      "metadata": {
        "id": "d94J6ZIdx8c5"
      },
      "execution_count": 2,
      "outputs": []
    },
    {
      "cell_type": "markdown",
      "source": [
        "The np.mean() and np.average() functions in NumPy are both used to calculate averages, but they have some differences in their functionality and use cases. Here’s a comparison of the two:\n",
        "\n",
        "### np.mean()\n",
        "- Purpose: Calculates the arithmetic mean of the elements in an array.\n",
        "- Basic Usage: You simply pass the array (or list) to the function, and it computes the mean.\n",
        "- Syntax: np.mean(a, axis=None, dtype=None, out=None)\n",
        "- Parameters:\n",
        "  - a: Input array.\n",
        "  - axis: Axis along which the means are computed. Default is None, meaning the mean is computed over the entire array.\n",
        "  - dtype: Data type to use in computing the mean.\n",
        "  - out: Alternative output array to store the result.\n",
        "- Behavior: It does not take weights into account; it treats all elements equally.\n",
        "\n",
        "### np.average()\n",
        "- Purpose: Calculates the weighted average of the elements in an array.\n",
        "- Basic Usage: You can pass an array and optionally specify weights for the elements.\n",
        "- Syntax: np.average(a, axis=None, weights=None, returned=False)\n",
        "- Parameters:\n",
        "  - a: Input array.\n",
        "  - axis: Axis along which the averages are computed.\n",
        "  - weights: An optional array of the same shape as a, specifying the weights for each element.\n",
        "  - returned: If set to True, it also returns the sum of the weights.\n",
        "- Behavior: It allows for weighting the contributions of different elements, which can be useful in various contexts.\n",
        "\n",
        "### When to Use Each:\n",
        "- Use np.mean() when you need a simple arithmetic mean of the data without any weights. It’s straightforward and efficient for general purposes.\n",
        "- Use np.average() when you need to compute a weighted average. This is particularly useful in scenarios where certain data points should contribute more to the average than others, such as in statistical analysis or when dealing with datasets where some values are more significant than others.\n",
        "\n",
        "### Example:\n",
        "If you have an array of exam scores and you want to find the average score, you would use np.mean(). However, if you have scores along with their respective weights (like credit hours for courses), you would use np.average() to get a more accurate representation of the overall performance.\n",
        "\n",
        "In summary, while both functions serve to compute averages, np.mean() is for straightforward calculations, and np.average() is for when you need to account for the importance of different values through weights."
      ],
      "metadata": {
        "id": "FwD-WsN60Sg5"
      }
    },
    {
      "cell_type": "code",
      "source": [
        "## QUES 3)  Describe the methods for reversing a NumPy array along different axes. Provide examples for 1D and 2D\n",
        "# arrays"
      ],
      "metadata": {
        "id": "GDibCAN5yDYc"
      },
      "execution_count": 3,
      "outputs": []
    },
    {
      "cell_type": "markdown",
      "source": [
        "Reversing a NumPy array can be done along different axes using various methods. Here are the methods for both 1D and 2D arrays.\n",
        "\n",
        "### Reversing a 1D Array\n",
        "For a 1D array, you can reverse the array using slicing. The syntax for slicing is array[::-1], which means you take the entire array but step backwards.\n",
        "\n",
        "Example:\n",
        "python\n",
        "import numpy as np\n",
        "\n",
        "# Create a 1D array\n",
        "array_1d = np.array([1, 2, 3, 4, 5])\n",
        "\n",
        "# Reverse the 1D array\n",
        "reversed_array_1d = array_1d[::-1]\n",
        "\n",
        "print(reversed_array_1d)  # Output: [5 4 3 2 1]\n",
        "\n",
        "\n",
        "### Reversing a 2D Array\n",
        "For a 2D array, you can reverse the array along a specific axis using slicing as well. You can reverse along the first axis (rows) or the second axis (columns).\n",
        "\n",
        "1. Reversing along the first axis (rows):\n",
        "   This reverses the order of the rows in the array.\n",
        "\n",
        "   Example:\n",
        "   python\n",
        "   import numpy as np\n",
        "\n",
        "   # Create a 2D array\n",
        "   array_2d = np.array([[1, 2, 3],\n",
        "                        [4, 5, 6],\n",
        "                        [7, 8, 9]])\n",
        "\n",
        "   # Reverse the 2D array along the first axis (rows)\n",
        "   reversed_array_2d_rows = array_2d[::-1]\n",
        "\n",
        "   print(reversed_array_2d_rows)\n",
        "   # Output:\n",
        "   # [[7 8 9]\n",
        "   #  [4 5 6]\n",
        "   #  [1 2 3]]\n",
        "   \n",
        "\n",
        "2. Reversing along the second axis (columns):\n",
        "   This reverses the order of the columns in the array.\n",
        "\n",
        "   Example:\n",
        "   python\n",
        "   import numpy as np\n",
        "\n",
        "   # Create a 2D array\n",
        "   array_2d = np.array([[1, 2, 3],\n",
        "                        [4, 5, 6],\n",
        "                        [7, 8, 9]])\n",
        "\n",
        "   # Reverse the 2D array along the second axis (columns)\n",
        "   reversed_array_2d_columns = array_2d[:, ::-1]\n",
        "\n",
        "   print(reversed_array_2d_columns)\n",
        "   # Output:\n",
        "   # [[3 2 1]\n",
        "   #  [6 5 4]\n",
        "   #  [9 8 7]]\n",
        "   \n",
        "\n",
        "### Summary\n",
        "- For a 1D array, use array[::-1] to reverse the array.\n",
        "- For a 2D array, you can reverse along the first axis with array[::-1] and along the second axis with array[:, ::-1].\n",
        "\n",
        "These methods provide a straightforward way to reverse arrays in NumPy, whether they are one-dimensional or two-dimensional."
      ],
      "metadata": {
        "id": "m7Y8SZZU0hJT"
      }
    },
    {
      "cell_type": "code",
      "source": [
        "## QUES 4) How can you determine the data type of elements in a NumPy array? Discuss the importance of data types\n",
        "# in memory management and performance"
      ],
      "metadata": {
        "id": "8_tC7q8-yJRJ"
      },
      "execution_count": 4,
      "outputs": []
    },
    {
      "cell_type": "markdown",
      "source": [
        "To determine the data type of elements in a NumPy array, you can use the dtype attribute of the array. This attribute returns the data type of the array elements, which is crucial for understanding how the array will behave in terms of memory usage and performance.\n",
        "\n",
        "### Example of Determining Data Type\n",
        "Here's a simple example to illustrate how to find the data type of a NumPy array:\n",
        "\n",
        "python\n",
        "import numpy as np\n",
        "\n",
        "# Create a NumPy array\n",
        "array = np.array([1, 2, 3, 4, 5])\n",
        "\n",
        "# Get the data type of the array elements\n",
        "data_type = array.dtype\n",
        "\n",
        "print(data_type)  # Output: int64 (or int32 depending on the system)\n",
        "\n",
        "\n",
        "### Importance of Data Types\n",
        "1. Memory Management: Different data types consume different amounts of memory. For example, an int64 type uses 8 bytes per element, while an int32 uses only 4 bytes. By choosing the appropriate data type for your array, you can significantly reduce memory usage, especially for large datasets.\n",
        "\n",
        "2. Performance: The choice of data type can also affect performance. Operations on smaller data types (like float32 instead of float64) can be faster because they require less computational power and memory bandwidth. This can lead to quicker calculations, especially in numerical computations or when working with large arrays.\n",
        "\n",
        "3. Precision: Different data types offer different ranges and precision. For example, float32 can represent a smaller range of decimal values than float64. Choosing the right data type ensures that your calculations maintain the necessary precision without unnecessary overhead.\n",
        "\n",
        "4. Compatibility: Certain functions and operations in NumPy may require specific data types. Understanding the data types helps in avoiding errors and ensuring compatibility when performing operations or combining arrays.\n",
        "\n",
        "In summary, knowing the data type of elements in a NumPy array is essential for efficient memory management, optimizing performance, maintaining precision, and ensuring compatibility with various operations."
      ],
      "metadata": {
        "id": "C4clzMlt0mli"
      }
    },
    {
      "cell_type": "code",
      "source": [
        "## QUES 5)  Define ndarrays in NumPy and explain their key features. How do they differ from standard Python lists?"
      ],
      "metadata": {
        "id": "tM-3LIPryQoV"
      },
      "execution_count": 5,
      "outputs": []
    },
    {
      "cell_type": "markdown",
      "source": [
        "In NumPy, ndarrays (short for \"n-dimensional arrays\") are a powerful data structure used to store and manipulate large datasets. They are the core feature of the NumPy library and provide a wide range of functionalities for numerical computations.\n",
        "\n",
        "### Key Features of ndarrays:\n",
        "1. Homogeneous Data: All elements in an ndarray must be of the same data type, which allows for optimized memory usage and performance. This is in contrast to Python lists, which can hold elements of different types.\n",
        "\n",
        "2. Multidimensional: Ndarrays can have any number of dimensions (hence \"n-dimensional\"). You can create 1D arrays (vectors), 2D arrays (matrices), and even higher-dimensional arrays. This flexibility is crucial for scientific computing and data analysis.\n",
        "\n",
        "3. Efficient Memory Usage: Ndarrays are more memory-efficient than Python lists. They store data in contiguous blocks of memory, which reduces overhead and improves cache performance.\n",
        "\n",
        "4. Vectorized Operations: NumPy allows for element-wise operations on ndarrays without the need for explicit loops. This leads to cleaner code and significantly faster execution times, as operations are implemented in optimized C code.\n",
        "\n",
        "5. Broadcasting: Ndarrays support broadcasting, a powerful mechanism that allows for arithmetic operations between arrays of different shapes. This means you can perform operations on arrays of different sizes without needing to manually adjust their shapes.\n",
        "\n",
        "6. Indexing and Slicing: Ndarrays provide advanced indexing and slicing capabilities, allowing you to easily access and manipulate subsets of data.\n",
        "\n",
        "### Differences from Standard Python Lists:\n",
        "- Data Type: Python lists can hold mixed data types, while ndarrays require all elements to be of the same type.\n",
        "- Performance: Ndarrays are generally faster and more efficient for numerical operations compared to Python lists, especially for large datasets.\n",
        "- Functionality: Ndarrays come with a rich set of built-in mathematical functions and operations that are not available with standard lists. For example, you can easily perform linear algebra operations, statistical calculations, and more with ndarrays.\n",
        "- Memory Layout: Ndarrays are stored in a contiguous block of memory, while Python lists are arrays of pointers to objects, leading to more overhead.\n",
        "\n",
        "In summary, ndarrays are a fundamental part of NumPy that enable efficient and powerful numerical computations, offering advantages in terms of performance, memory usage, and functionality compared to standard Python lists."
      ],
      "metadata": {
        "id": "iBpw5rZc02Ir"
      }
    },
    {
      "cell_type": "code",
      "source": [
        "## QUES 6) Analyze the performance benefits of NumPy arrays over Python lists for large-scale numerical operations"
      ],
      "metadata": {
        "id": "tGb_woMfyWgE"
      },
      "execution_count": 6,
      "outputs": []
    },
    {
      "cell_type": "markdown",
      "source": [
        "When it comes to large-scale numerical operations, NumPy arrays provide several performance benefits over standard Python lists. Here’s a detailed analysis:\n",
        "\n",
        "### 1. Speed:\n",
        "   - Vectorization: NumPy allows for vectorized operations, meaning that operations can be applied to entire arrays at once without the need for explicit loops. This leads to significant performance improvements since NumPy uses optimized C and Fortran libraries under the hood.\n",
        "   - Compiled Code: NumPy functions are implemented in compiled languages, which run much faster than Python’s interpreted code. This means that operations on NumPy arrays are generally executed much quicker than equivalent operations on Python lists.\n",
        "\n",
        "### 2. Memory Efficiency:\n",
        "   - Contiguous Memory Allocation: NumPy arrays store data in contiguous blocks of memory, which reduces the overhead associated with Python lists (which store references to objects). This layout not only saves space but also improves cache performance when accessing elements.\n",
        "   - Fixed Data Types: Since all elements in a NumPy array are of the same data type, NumPy can use a more compact representation of the data, reducing memory overhead compared to lists that can store mixed types.\n",
        "\n",
        "### 3. Reduced Overhead:\n",
        "   - Lower Memory Overhead: Python lists have a higher memory overhead due to their ability to store heterogeneous data types. NumPy arrays, being homogeneous, eliminate this overhead, allowing for more efficient use of memory.\n",
        "   - Less Python Object Overhead: Each element in a Python list is a reference to a Python object, which adds additional overhead. In contrast, NumPy arrays store data in a more streamlined manner.\n",
        "\n",
        "### 4. Advanced Mathematical Operations:\n",
        "   - Built-in Functions: NumPy provides a wide range of built-in mathematical functions that are optimized for performance. These functions can operate on entire arrays at once, which is not possible with Python lists without writing custom loops.\n",
        "   - Broadcasting: NumPy’s broadcasting feature allows for operations between arrays of different shapes without needing to manually adjust their dimensions. This capability simplifies code and enhances performance.\n",
        "\n",
        "### 5. Parallel Processing:\n",
        "   - Optimized Libraries: Many NumPy operations leverage optimized libraries like BLAS and LAPACK, which can take advantage of multi-core processors for parallel computations. This can lead to further performance gains for large-scale numerical operations.\n",
        "\n",
        "### Conclusion:\n",
        "In summary, when performing large-scale numerical operations, NumPy arrays significantly outperform Python lists in terms of speed, memory efficiency, and functionality. The ability to leverage vectorized operations and optimized libraries makes NumPy the preferred choice for numerical computing in Python. If you’re dealing with large datasets or complex calculations, using NumPy arrays can lead to substantial improvements in performance and efficiency."
      ],
      "metadata": {
        "id": "0Kx6V5m502m5"
      }
    },
    {
      "cell_type": "code",
      "source": [
        "## QUES 7)  Compare vstack() and hstack() functions in NumPy. Provide examples demonstrating their usage and\n",
        "# output"
      ],
      "metadata": {
        "id": "_UltHDDfybah"
      },
      "execution_count": 7,
      "outputs": []
    },
    {
      "cell_type": "markdown",
      "source": [
        "The vstack() and hstack() functions in NumPy are used to stack arrays vertically and horizontally, respectively. Here’s a comparison of both functions along with examples to demonstrate their usage and output.\n",
        "\n",
        "### vstack()\n",
        "The vstack() function stacks arrays in sequence vertically (row-wise). This means it adds rows to an array.\n",
        "\n",
        "Example:\n",
        "python\n",
        "import numpy as np\n",
        "\n",
        "# Create two 2D arrays\n",
        "array1 = np.array([[1, 2], [3, 4]])\n",
        "array2 = np.array([[5, 6]])\n",
        "\n",
        "# Stack arrays vertically\n",
        "result_vstack = np.vstack((array1, array2))\n",
        "\n",
        "print(\"Result of vstack:\")\n",
        "print(result_vstack)\n",
        "\n",
        "\n",
        "Output:\n",
        "\n",
        "Result of vstack:\n",
        "[[1 2]\n",
        " [3 4]\n",
        " [5 6]]\n",
        "\n",
        "\n",
        "### hstack()\n",
        "The hstack() function stacks arrays in sequence horizontally (column-wise). This means it adds columns to an array.\n",
        "\n",
        "Example:\n",
        "python\n",
        "import numpy as np\n",
        "\n",
        "# Create two 2D arrays\n",
        "array1 = np.array([[1, 2], [3, 4]])\n",
        "array2 = np.array([[5], [6]])\n",
        "\n",
        "# Stack arrays horizontally\n",
        "result_hstack = np.hstack((array1, array2))\n",
        "\n",
        "print(\"Result of hstack:\")\n",
        "print(result_hstack)\n",
        "\n",
        "\n",
        "Output:\n",
        "\n",
        "Result of hstack:\n",
        "[[1 2 5]\n",
        " [3 4 6]]\n",
        "\n",
        "\n",
        "### Summary\n",
        "- vstack() combines arrays vertically, adding rows from the second array to the first.\n",
        "- hstack() combines arrays horizontally, adding columns from the second array to the first.\n",
        "\n",
        "These functions are particularly useful for combining datasets in various shapes, making NumPy a powerful tool for numerical operations and data manipulation.\n"
      ],
      "metadata": {
        "id": "IaU156iB029i"
      }
    },
    {
      "cell_type": "code",
      "source": [
        "## QUES 8)  Explain the differences between fliplr() and flipud() methods in NumPy, including their effects on various\n",
        "# array dimensions"
      ],
      "metadata": {
        "id": "QNJbFnNGyiZm"
      },
      "execution_count": 8,
      "outputs": []
    },
    {
      "cell_type": "markdown",
      "source": [
        "The fliplr() and flipud() methods in NumPy are used to flip arrays along different axes. Here’s a detailed explanation of the differences between these two methods, including their effects on various array dimensions.\n",
        "\n",
        "### fliplr()\n",
        "The fliplr() function flips an array left to right. This means it reverses the order of the columns in a 2D array.\n",
        "\n",
        "Example:\n",
        "python\n",
        "import numpy as np\n",
        "\n",
        "# Create a 2D array\n",
        "array = np.array([[1, 2, 3],\n",
        "                  [4, 5, 6]])\n",
        "\n",
        "# Flip the array left to right\n",
        "result_fliplr = np.fliplr(array)\n",
        "\n",
        "print(\"Result of fliplr:\")\n",
        "print(result_fliplr)\n",
        "\n",
        "\n",
        "Output:\n",
        "\n",
        "Result of fliplr:\n",
        "[[3 2 1]\n",
        " [6 5 4]]\n",
        "\n",
        "\n",
        "### flipud()\n",
        "The flipud() function flips an array up to down. This means it reverses the order of the rows in a 2D array.\n",
        "\n",
        "Example:\n",
        "python\n",
        "import numpy as np\n",
        "\n",
        "# Create a 2D array\n",
        "array = np.array([[1, 2, 3],\n",
        "                  [4, 5, 6]])\n",
        "\n",
        "# Flip the array up to down\n",
        "result_flipud = np.flipud(array)\n",
        "\n",
        "print(\"Result of flipud:\")\n",
        "print(result_flipud)\n",
        "\n",
        "\n",
        "Output:\n",
        "\n",
        "Result of flipud:\n",
        "[[4 5 6]\n",
        " [1 2 3]]\n",
        "\n",
        "\n",
        "### Effects on Various Array Dimensions\n",
        "1. 2D Arrays:\n",
        "   - fliplr() reverses the columns, while flipud() reverses the rows.\n",
        "   \n",
        "2. 1D Arrays:\n",
        "   - Both functions will have the same effect as they essentially reverse the order of elements in the array.\n",
        "\n",
        "Example for 1D Array:\n",
        "python\n",
        "array_1d = np.array([1, 2, 3, 4])\n",
        "\n",
        "result_fliplr_1d = np.fliplr(array_1d.reshape(1, -1))  # Reshape to 2D for fliplr\n",
        "result_flipud_1d = np.flipud(array_1d.reshape(1, -1))  # Reshape to 2D for flipud\n",
        "\n",
        "print(\"Result of fliplr on 1D array:\")\n",
        "print(result_fliplr_1d)\n",
        "\n",
        "print(\"Result of flipud on 1D array:\")\n",
        "print(result_flipud_1d)\n",
        "\n",
        "\n",
        "Output:\n",
        "\n",
        "Result of fliplr on 1D array:\n",
        "[[4 3 2 1]]\n",
        "Result of flipud on 1D array:\n",
        "[[1 2 3 4]]\n",
        "\n",
        "\n",
        "### Summary\n",
        "- fliplr() is used to flip arrays left to right (affects columns).\n",
        "- flipud() is used to flip arrays up to down (affects rows).\n",
        "- Both functions are primarily used for 2D arrays but can be applied to 1D arrays as well, with the need to reshape them for fliplr().\n",
        "\n",
        "These functions are very useful for data manipulation and transformation in various applications, including image processing and data analysis."
      ],
      "metadata": {
        "id": "i8xMbqkS03aD"
      }
    },
    {
      "cell_type": "code",
      "source": [
        "## QUES 9) Discuss the functionality of the array_split() method in NumPy. How does it handle uneven splits?"
      ],
      "metadata": {
        "id": "02CEUaz_ywWq"
      },
      "execution_count": 9,
      "outputs": []
    },
    {
      "cell_type": "markdown",
      "source": [
        "The array_split() method in NumPy is used to split an array into multiple sub-arrays. This method is particularly useful when you want to divide an array into smaller segments for further processing or analysis.\n",
        "\n",
        "### Functionality of array_split()\n",
        "\n",
        "1. Basic Usage:\n",
        "   The array_split() method takes two main arguments: the array you want to split and the number of splits you want to create.\n",
        "\n",
        "   Syntax:\n",
        "   python\n",
        "   numpy.array_split(ary, indices_or_sections, axis=0)\n",
        "   \n",
        "\n",
        "   - ary: The input array you want to split.\n",
        "   - indices_or_sections: This can be an integer (number of equal splits) or a list of indices where the array should be split.\n",
        "   - axis: The axis along which to split the array. The default is 0, which means it splits along the first axis (rows for 2D arrays).\n",
        "\n",
        "2. Example:\n",
        "   Here’s a simple example of how to use array_split():\n",
        "\n",
        "   python\n",
        "   import numpy as np\n",
        "\n",
        "   # Create a 1D array\n",
        "   array = np.array([1, 2, 3, 4, 5, 6])\n",
        "\n",
        "   # Split the array into 3 parts\n",
        "   split_array = np.array_split(array, 3)\n",
        "\n",
        "   print(\"Split Array:\")\n",
        "   print(split_array)\n",
        "   \n",
        "\n",
        "   Output:\n",
        "   \n",
        "   Split Array:\n",
        "   [array([1, 2]), array([3, 4]), array([5, 6])]\n",
        "   \n",
        "\n",
        "### Handling Uneven Splits\n",
        "\n",
        "When you use array_split() with an integer for the number of sections, it will try to create sub-arrays as evenly as possible. However, if the array cannot be evenly divided, the last sub-array will contain the remaining elements.\n",
        "\n",
        "For example, if you have an array of 7 elements and you want to split it into 3 parts, the result will be:\n",
        "\n",
        "python\n",
        "array = np.array([1, 2, 3, 4, 5, 6, 7])\n",
        "split_array = np.array_split(array, 3)\n",
        "\n",
        "print(\"Split Array with uneven parts:\")\n",
        "print(split_array)\n",
        "\n",
        "\n",
        "Output:\n",
        "\n",
        "Split Array with uneven parts:\n",
        "[array([1, 2, 3]), array([4, 5]), array([6, 7])]\n",
        "\n",
        "\n",
        "In this case, the first sub-array contains 3 elements while the other two contain 2 elements each.\n",
        "\n",
        "### Summary\n",
        "\n",
        "- array_split() is a versatile method for dividing arrays into smaller segments.\n",
        "- It can handle uneven splits gracefully by distributing the remaining elements into the last sub-array.\n",
        "- This functionality is particularly useful when dealing with datasets that need batch processing or when you want to analyze parts of an array independently.\n",
        "\n",
        "Overall, array_split() is a powerful tool for managing and manipulating data in NumPy."
      ],
      "metadata": {
        "id": "kAVVMC7B03_K"
      }
    },
    {
      "cell_type": "code",
      "source": [
        "## QUES 10) Explain the concepts of vectorization and broadcasting in NumPy. How do they contribute to efficient array\n",
        "# operations?"
      ],
      "metadata": {
        "id": "klTlrTD-y4VY"
      },
      "execution_count": 10,
      "outputs": []
    },
    {
      "cell_type": "markdown",
      "source": [
        "Vectorization and broadcasting are two fundamental concepts in NumPy that significantly enhance the efficiency of array operations.\n",
        "\n",
        "### Vectorization\n",
        "\n",
        "Vectorization refers to the process of converting operations that would typically be performed in a loop into a single operation that can be applied to entire arrays at once. This is possible because NumPy is built on optimized C and Fortran libraries, allowing it to perform operations on entire arrays without the need for explicit loops in Python.\n",
        "\n",
        "For example, if you want to add two arrays element-wise, you can do it directly without looping through each element:\n",
        "\n",
        "python\n",
        "import numpy as np\n",
        "\n",
        "# Create two arrays\n",
        "a = np.array([1, 2, 3])\n",
        "b = np.array([4, 5, 6])\n",
        "\n",
        "# Vectorized addition\n",
        "result = a + b\n",
        "print(result)  # Output: [5 7 9]\n",
        "\n",
        "\n",
        "In this example, the addition is performed in a single operation, making it much faster than using a loop.\n",
        "\n",
        "### Broadcasting\n",
        "\n",
        "Broadcasting is a technique that allows NumPy to perform arithmetic operations on arrays of different shapes. When you perform operations between two arrays, NumPy automatically expands the smaller array across the larger one so that they have compatible shapes. This is particularly useful when you want to perform operations between a scalar and an array or between arrays of different dimensions.\n",
        "\n",
        "For instance, if you have a 1D array and a 2D array, broadcasting allows you to add them together:\n",
        "\n",
        "python\n",
        "# A 1D array\n",
        "a = np.array([1, 2, 3])\n",
        "\n",
        "# A 2D array\n",
        "b = np.array([[4, 5, 6],\n",
        "              [7, 8, 9]])\n",
        "\n",
        "# Broadcasting addition\n",
        "result = a + b\n",
        "print(result)\n",
        "\n",
        "\n",
        "Output:\n",
        "\n",
        "[[ 5  7  9]\n",
        " [ 8 10 12]]\n",
        "\n",
        "\n",
        "In this case, the 1D array a is broadcasted to match the shape of the 2D array b, allowing for element-wise addition.\n",
        "\n",
        "### Contribution to Efficient Array Operations\n",
        "\n",
        "Both vectorization and broadcasting contribute to efficient array operations in several ways:\n",
        "\n",
        "1. Performance: By eliminating the need for explicit loops in Python, vectorization speeds up computations. Operations are executed at a lower level in optimized libraries, which is much faster than interpreted Python code.\n",
        "\n",
        "2. Memory Efficiency: Broadcasting allows for operations on arrays of different shapes without needing to create large temporary arrays, saving memory and improving performance.\n",
        "\n",
        "3. Cleaner Code: Both concepts lead to more concise and readable code. Instead of writing complex loops, you can express operations in a straightforward manner, making the code easier to understand and maintain.\n",
        "\n",
        "In summary, vectorization and broadcasting are powerful features of NumPy that enable efficient and fast array operations, making it a preferred choice for numerical computations in Python.\\"
      ],
      "metadata": {
        "id": "6vVY6Mla065h"
      }
    },
    {
      "cell_type": "code",
      "source": [
        "## PRACTICAL QUESTIONS"
      ],
      "metadata": {
        "id": "kBgLFsvuy-TU"
      },
      "execution_count": 11,
      "outputs": []
    },
    {
      "cell_type": "code",
      "source": [
        "## QUES 1) Create a 3x3 NumPy array with random integers between 1 and 100. Then, interchange its rows and columns\n",
        "import numpy as np\n",
        "\n",
        "# Create a 3x3 array with random integers between 1 and 100\n",
        "array = np.random.randint(1, 101, size=(3, 3))\n",
        "\n",
        "# Print the original array\n",
        "print(\"Original Array:\")\n",
        "print(array)\n",
        "\n",
        "# Interchange rows and columns (transpose the array)\n",
        "transposed_array = array.T\n",
        "\n",
        "# Print the transposed array\n",
        "print(\"\\nTransposed Array:\")\n",
        "print(transposed_array)"
      ],
      "metadata": {
        "colab": {
          "base_uri": "https://localhost:8080/"
        },
        "id": "OvWzWq_4zD26",
        "outputId": "cdd7c739-9902-49e1-f656-8206b3801b34"
      },
      "execution_count": 22,
      "outputs": [
        {
          "output_type": "stream",
          "name": "stdout",
          "text": [
            "Original Array:\n",
            "[[31 13 49]\n",
            " [74 35 30]\n",
            " [75 29 79]]\n",
            "\n",
            "Transposed Array:\n",
            "[[31 74 75]\n",
            " [13 35 29]\n",
            " [49 30 79]]\n"
          ]
        }
      ]
    },
    {
      "cell_type": "code",
      "source": [
        "## QUES 2)  Generate a 1D NumPy array with 10 elements. Reshape it into a 2x5 array, then into a 5x2 array\n",
        "import numpy as np\n",
        "\n",
        "# Generate a 1D array with 10 elements\n",
        "array_1d = np.arange(10)\n",
        "\n",
        "# Print the original 1D array\n",
        "print(\"Original 1D Array:\")\n",
        "print(array_1d)\n",
        "\n",
        "# Reshape into a 2x5 array\n",
        "array_2x5 = array_1d.reshape(2, 5)\n",
        "print(\"\\nReshaped to 2x5 Array:\")\n",
        "print(array_2x5)\n",
        "\n",
        "# Reshape into a 5x2 array\n",
        "array_5x2 = array_1d.reshape(5, 2)\n",
        "print(\"\\nReshaped to 5x2 Array:\")\n",
        "print(array_5x2)\n"
      ],
      "metadata": {
        "colab": {
          "base_uri": "https://localhost:8080/"
        },
        "id": "XgH7wKkEzMYe",
        "outputId": "14b1c679-a317-47cf-fbcb-bd89cce2843d"
      },
      "execution_count": 23,
      "outputs": [
        {
          "output_type": "stream",
          "name": "stdout",
          "text": [
            "Original 1D Array:\n",
            "[0 1 2 3 4 5 6 7 8 9]\n",
            "\n",
            "Reshaped to 2x5 Array:\n",
            "[[0 1 2 3 4]\n",
            " [5 6 7 8 9]]\n",
            "\n",
            "Reshaped to 5x2 Array:\n",
            "[[0 1]\n",
            " [2 3]\n",
            " [4 5]\n",
            " [6 7]\n",
            " [8 9]]\n"
          ]
        }
      ]
    },
    {
      "cell_type": "code",
      "source": [
        "## QUES 3) Create a 4x4 NumPy array with random float values. Add a border of zeros around it, resulting in a 6x6 array\n",
        "import numpy as np\n",
        "\n",
        "# Create a 4x4 array with random float values\n",
        "array_4x4 = np.random.rand(4, 4)\n",
        "\n",
        "# Print the original 4x4 array\n",
        "print(\"Original 4x4 Array:\")\n",
        "print(array_4x4)\n",
        "\n",
        "# Add a border of zeros around the array\n",
        "array_with_border = np.pad(array_4x4, pad_width=1, mode='constant', constant_values=0)\n",
        "\n",
        "# Print the resulting 6x6 array\n",
        "print(\"\\n6x6 Array with Border of Zeros:\")\n",
        "print(array_with_border)\n"
      ],
      "metadata": {
        "colab": {
          "base_uri": "https://localhost:8080/"
        },
        "id": "dCk_sxn3zQ7A",
        "outputId": "a7f24871-bb09-405b-9065-e3d472ca742c"
      },
      "execution_count": 24,
      "outputs": [
        {
          "output_type": "stream",
          "name": "stdout",
          "text": [
            "Original 4x4 Array:\n",
            "[[1.99112816e-01 8.53170723e-02 2.74527825e-01 2.20113189e-01]\n",
            " [3.68166480e-01 2.71934350e-01 6.66993627e-01 9.23274100e-01]\n",
            " [8.05821202e-01 8.27117990e-01 7.53254684e-01 6.45865700e-01]\n",
            " [5.04206452e-04 2.50131458e-01 8.37913324e-01 2.83441951e-01]]\n",
            "\n",
            "6x6 Array with Border of Zeros:\n",
            "[[0.00000000e+00 0.00000000e+00 0.00000000e+00 0.00000000e+00\n",
            "  0.00000000e+00 0.00000000e+00]\n",
            " [0.00000000e+00 1.99112816e-01 8.53170723e-02 2.74527825e-01\n",
            "  2.20113189e-01 0.00000000e+00]\n",
            " [0.00000000e+00 3.68166480e-01 2.71934350e-01 6.66993627e-01\n",
            "  9.23274100e-01 0.00000000e+00]\n",
            " [0.00000000e+00 8.05821202e-01 8.27117990e-01 7.53254684e-01\n",
            "  6.45865700e-01 0.00000000e+00]\n",
            " [0.00000000e+00 5.04206452e-04 2.50131458e-01 8.37913324e-01\n",
            "  2.83441951e-01 0.00000000e+00]\n",
            " [0.00000000e+00 0.00000000e+00 0.00000000e+00 0.00000000e+00\n",
            "  0.00000000e+00 0.00000000e+00]]\n"
          ]
        }
      ]
    },
    {
      "cell_type": "code",
      "source": [
        "## QUES 4) Using NumPy, create an array of integers from 10 to 60 with a step of 5.\n",
        "import numpy as np\n",
        "\n",
        "# Create an array of integers from 10 to 60 with a step of 5\n",
        "array = np.arange(10, 61, 5)\n",
        "\n",
        "# Print the resulting array\n",
        "print(array)\n"
      ],
      "metadata": {
        "colab": {
          "base_uri": "https://localhost:8080/"
        },
        "id": "bnXdjJSOzWsx",
        "outputId": "64f22e68-7e2d-4afd-e9f3-91f94a375c6f"
      },
      "execution_count": 25,
      "outputs": [
        {
          "output_type": "stream",
          "name": "stdout",
          "text": [
            "[10 15 20 25 30 35 40 45 50 55 60]\n"
          ]
        }
      ]
    },
    {
      "cell_type": "code",
      "source": [
        "## QUES 5) Create a NumPy array of strings ['python', 'numpy', 'pandas']. Apply different case transformations\n",
        "# (uppercase, lowercase, title case, etc.) to each element\n",
        "import numpy as np\n",
        "\n",
        "# Create a NumPy array of strings\n",
        "array = np.array(['python', 'numpy', 'pandas'])\n",
        "\n",
        "# Apply different case transformations\n",
        "uppercase = np.char.upper(array)\n",
        "lowercase = np.char.lower(array)\n",
        "titlecase = np.char.title(array)\n",
        "capitalize = np.char.capitalize(array)\n",
        "\n",
        "# Print the original and transformed arrays\n",
        "print(\"Original Array:\")\n",
        "print(array)\n",
        "\n",
        "print(\"\\nUppercase:\")\n",
        "print(uppercase)\n",
        "\n",
        "print(\"\\nLowercase:\")\n",
        "print(lowercase)\n",
        "\n",
        "print(\"\\nTitle Case:\")\n",
        "print(titlecase)\n",
        "\n",
        "print(\"\\nCapitalized:\")\n",
        "print(capitalize)\n"
      ],
      "metadata": {
        "colab": {
          "base_uri": "https://localhost:8080/"
        },
        "id": "e7JdO7Elzb1M",
        "outputId": "f9b5a56a-519d-4a94-df09-d75f72c79a7f"
      },
      "execution_count": 26,
      "outputs": [
        {
          "output_type": "stream",
          "name": "stdout",
          "text": [
            "Original Array:\n",
            "['python' 'numpy' 'pandas']\n",
            "\n",
            "Uppercase:\n",
            "['PYTHON' 'NUMPY' 'PANDAS']\n",
            "\n",
            "Lowercase:\n",
            "['python' 'numpy' 'pandas']\n",
            "\n",
            "Title Case:\n",
            "['Python' 'Numpy' 'Pandas']\n",
            "\n",
            "Capitalized:\n",
            "['Python' 'Numpy' 'Pandas']\n"
          ]
        }
      ]
    },
    {
      "cell_type": "code",
      "source": [
        "## QUES 6) Generate a NumPy array of words. Insert a space between each character of every word in the array.\n",
        "import numpy as np\n",
        "\n",
        "# Create a NumPy array of words\n",
        "words_array = np.array(['hello', 'world', 'numpy', 'python'])\n",
        "\n",
        "# Insert a space between each character of every word\n",
        "spaced_words = np.char.join(' ', words_array)\n",
        "\n",
        "# Print the original and modified arrays\n",
        "print(\"Original Array:\")\n",
        "print(words_array)\n",
        "\n",
        "print(\"\\nArray with Spaces Between Characters:\")\n",
        "print(spaced_words)\n"
      ],
      "metadata": {
        "colab": {
          "base_uri": "https://localhost:8080/"
        },
        "id": "Xul7QVuGzjKt",
        "outputId": "bafcbfbd-527c-4b8b-d270-435b64d5407a"
      },
      "execution_count": 27,
      "outputs": [
        {
          "output_type": "stream",
          "name": "stdout",
          "text": [
            "Original Array:\n",
            "['hello' 'world' 'numpy' 'python']\n",
            "\n",
            "Array with Spaces Between Characters:\n",
            "['h e l l o' 'w o r l d' 'n u m p y' 'p y t h o n']\n"
          ]
        }
      ]
    },
    {
      "cell_type": "code",
      "source": [
        "## QUES 7)  Create two 2D NumPy arrays and perform element-wise addition, subtraction, multiplication, and division.\n",
        "import numpy as np\n",
        "\n",
        "# Create two 2D NumPy arrays\n",
        "array1 = np.array([[1, 2, 3],\n",
        "                    [4, 5, 6]])\n",
        "\n",
        "array2 = np.array([[10, 20, 30],\n",
        "                    [40, 50, 60]])\n",
        "\n",
        "# Perform element-wise addition\n",
        "addition = array1 + array2\n",
        "\n",
        "# Perform element-wise subtraction\n",
        "subtraction = array1 - array2\n",
        "\n",
        "# Perform element-wise multiplication\n",
        "multiplication = array1 * array2\n",
        "\n",
        "# Perform element-wise division\n",
        "division = array1 / array2\n",
        "\n",
        "# Print the results\n",
        "print(\"Array 1:\")\n",
        "print(array1)\n",
        "\n",
        "print(\"\\nArray 2:\")\n",
        "print(array2)\n",
        "\n",
        "print(\"\\nElement-wise Addition:\")\n",
        "print(addition)\n",
        "\n",
        "print(\"\\nElement-wise Subtraction:\")\n",
        "print(subtraction)\n",
        "\n",
        "print(\"\\nElement-wise Multiplication:\")\n",
        "print(multiplication)\n",
        "\n",
        "print(\"\\nElement-wise Division:\")\n",
        "print(division)\n"
      ],
      "metadata": {
        "colab": {
          "base_uri": "https://localhost:8080/"
        },
        "id": "Zaz-gTwlznu8",
        "outputId": "9fd235fd-b718-4cc2-d5ae-4a41c883e47f"
      },
      "execution_count": 28,
      "outputs": [
        {
          "output_type": "stream",
          "name": "stdout",
          "text": [
            "Array 1:\n",
            "[[1 2 3]\n",
            " [4 5 6]]\n",
            "\n",
            "Array 2:\n",
            "[[10 20 30]\n",
            " [40 50 60]]\n",
            "\n",
            "Element-wise Addition:\n",
            "[[11 22 33]\n",
            " [44 55 66]]\n",
            "\n",
            "Element-wise Subtraction:\n",
            "[[ -9 -18 -27]\n",
            " [-36 -45 -54]]\n",
            "\n",
            "Element-wise Multiplication:\n",
            "[[ 10  40  90]\n",
            " [160 250 360]]\n",
            "\n",
            "Element-wise Division:\n",
            "[[0.1 0.1 0.1]\n",
            " [0.1 0.1 0.1]]\n"
          ]
        }
      ]
    },
    {
      "cell_type": "code",
      "source": [
        "## QUES 8) Use NumPy to create a 5x5 identity matrix, then extract its diagonal elements.\n",
        "import numpy as np\n",
        "\n",
        "# Create a 5x5 identity matrix\n",
        "identity_matrix = np.eye(5)\n",
        "\n",
        "# Print the identity matrix\n",
        "print(\"5x5 Identity Matrix:\")\n",
        "print(identity_matrix)\n",
        "\n",
        "# Extract the diagonal elements\n",
        "diagonal_elements = np.diagonal(identity_matrix)\n",
        "\n",
        "# Print the diagonal elements\n",
        "print(\"\\nDiagonal Elements:\")\n",
        "print(diagonal_elements)\n"
      ],
      "metadata": {
        "colab": {
          "base_uri": "https://localhost:8080/"
        },
        "id": "wupVEghCzsJf",
        "outputId": "448cb9f4-790b-4c88-c7ec-80d7da6531dc"
      },
      "execution_count": 29,
      "outputs": [
        {
          "output_type": "stream",
          "name": "stdout",
          "text": [
            "5x5 Identity Matrix:\n",
            "[[1. 0. 0. 0. 0.]\n",
            " [0. 1. 0. 0. 0.]\n",
            " [0. 0. 1. 0. 0.]\n",
            " [0. 0. 0. 1. 0.]\n",
            " [0. 0. 0. 0. 1.]]\n",
            "\n",
            "Diagonal Elements:\n",
            "[1. 1. 1. 1. 1.]\n"
          ]
        }
      ]
    },
    {
      "cell_type": "code",
      "source": [
        "## QUES 9) Generate a NumPy array of 100 random integers between 0 and 1000. Find and display all prime numbers in\n",
        "# this array.\n",
        "import numpy as np\n",
        "\n",
        "# Generate a NumPy array of 100 random integers between 0 and 1000\n",
        "random_integers = np.random.randint(0, 1000, size=100)\n",
        "\n",
        "# Function to check if a number is prime\n",
        "def is_prime(n):\n",
        "    if n <= 1:\n",
        "        return False\n",
        "    for i in range(2, int(n**0.5) + 1):\n",
        "        if n % i == 0:\n",
        "            return False\n",
        "    return True\n",
        "\n",
        "# Find all prime numbers in the array\n",
        "prime_numbers = np.array([num for num in random_integers if is_prime(num)])\n",
        "\n",
        "# Print the random integers and the prime numbers found\n",
        "print(\"Random Integers:\")\n",
        "print(random_integers)\n",
        "\n",
        "print(\"\\nPrime Numbers in the Array:\")\n",
        "print(prime_numbers)\n"
      ],
      "metadata": {
        "colab": {
          "base_uri": "https://localhost:8080/"
        },
        "id": "t05c0G9TzvyT",
        "outputId": "4761fb1e-8485-47e6-f6eb-a43af32201ca"
      },
      "execution_count": 30,
      "outputs": [
        {
          "output_type": "stream",
          "name": "stdout",
          "text": [
            "Random Integers:\n",
            "[384  19 186  60  78 916 135 781 370 626 928  39 619 767 268 410 559  30\n",
            " 749 716 868 109  92 991 807 264 600 457 761  83 114 538 537 701 989 413\n",
            " 787 533 469 800 222 907 914 650 243 496 376 119 223 258 562 855 346 917\n",
            " 879 318 267  47 668 475 128 172 359 282 809  63 897  32 964 265 745 803\n",
            "  67 771 803  12 227 435 474 757 766 986 804 794 807 878 981 767 760 853\n",
            " 774 379 770 434 742 889 785 775 459 319]\n",
            "\n",
            "Prime Numbers in the Array:\n",
            "[ 19 619 109 991 457 761  83 701 787 907 223  47 359 809  67 227 757 853\n",
            " 379]\n"
          ]
        }
      ]
    },
    {
      "cell_type": "code",
      "source": [
        "## QUES 10) Create a NumPy array representing daily temperatures for a month. Calculate and display the weekly\n",
        "# averages.\n",
        "import numpy as np\n",
        "\n",
        "# Create a NumPy array representing daily temperatures for a month (30 days)\n",
        "daily_temperatures = np.array([25, 26, 27, 28, 29, 30, 31, 32, 33, 34, 35, 36, 37, 38, 39, 40, 41, 42, 43, 44, 45, 46, 47, 48, 49, 50, 51, 52, 53, 54])\n",
        "\n",
        "# Calculate the weekly averages\n",
        "weekly_averages = [np.mean(daily_temperatures[i:i+7]) for i in range(0, len(daily_temperatures), 7)]\n",
        "\n",
        "# Display the weekly averages\n",
        "for week, avg in enumerate(weekly_averages, start=1):\n",
        "    print(f\"Week {week} average temperature: {avg:.2f}°C\")\n",
        "\n"
      ],
      "metadata": {
        "colab": {
          "base_uri": "https://localhost:8080/"
        },
        "id": "03whJlr15lPg",
        "outputId": "63d06c04-9ee6-446e-9bde-564617a690c8"
      },
      "execution_count": 35,
      "outputs": [
        {
          "output_type": "stream",
          "name": "stdout",
          "text": [
            "Week 1 average temperature: 28.00°C\n",
            "Week 2 average temperature: 35.00°C\n",
            "Week 3 average temperature: 42.00°C\n",
            "Week 4 average temperature: 49.00°C\n",
            "Week 5 average temperature: 53.50°C\n"
          ]
        }
      ]
    }
  ]
}